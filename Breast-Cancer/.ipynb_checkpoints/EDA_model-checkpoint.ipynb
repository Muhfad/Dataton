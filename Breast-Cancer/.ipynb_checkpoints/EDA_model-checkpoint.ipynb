{
 "cells": [
  {
   "cell_type": "markdown",
   "metadata": {},
   "source": [
    "# Breast Cancer Data\n",
    "url : https://archive.ics.uci.edu/ml/datasets/Breast+Cancer"
   ]
  },
  {
   "cell_type": "code",
   "execution_count": 1,
   "metadata": {},
   "outputs": [
    {
     "name": "stdout",
     "output_type": "stream",
     "text": [
      "Citation Request:\r\n",
      "   This breast cancer domain was obtained from the University Medical Centre,\r\n",
      "   Institute of Oncology, Ljubljana, Yugoslavia.  Thanks go to M. Zwitter and \r\n",
      "   M. Soklic for providing the data.  Please include this citation if you plan\r\n",
      "   to use this database.\r\n",
      "\r\n",
      "1. Title: Breast cancer data (Michalski has used this)\r\n",
      "\r\n",
      "2. Sources: \r\n",
      "   -- Matjaz Zwitter & Milan Soklic (physicians)\r\n",
      "      Institute of Oncology \r\n",
      "      University Medical Center\r\n",
      "      Ljubljana, Yugoslavia\r\n",
      "   -- Donors: Ming Tan and Jeff Schlimmer (Jeffrey.Schlimmer@a.gp.cs.cmu.edu)\r\n",
      "   -- Date: 11 July 1988\r\n",
      "\r\n",
      "3. Past Usage: (Several: here are some)\r\n",
      "     -- Michalski,R.S., Mozetic,I., Hong,J., & Lavrac,N. (1986). The \r\n",
      "        Multi-Purpose Incremental Learning System AQ15 and its Testing \r\n",
      "        Application to Three Medical Domains.  In Proceedings of the \r\n",
      "        Fifth National Conference on Artificial Intelligence, 1041-1045,\r\n",
      "        Philadelphia, PA: Morgan Kaufmann.\r\n",
      "        -- accuracy range: 66%-72%\r\n",
      "     -- Clark,P. & Niblett,T. (1987). Induction in Noisy Domains.  In \r\n",
      "        Progress in Machine Learning (from the Proceedings of the 2nd\r\n",
      "        European Working Session on Learning), 11-30, Bled, \r\n",
      "        Yugoslavia: Sigma Press.\r\n",
      "        -- 8 test results given: 65%-72% accuracy range\r\n",
      "     -- Tan, M., & Eshelman, L. (1988). Using weighted networks to \r\n",
      "        represent classification knowledge in noisy domains.  Proceedings \r\n",
      "        of the Fifth International Conference on Machine Learning, 121-134,\r\n",
      "        Ann Arbor, MI.\r\n",
      "        -- 4 systems tested: accuracy range was 68%-73.5%\r\n",
      "    -- Cestnik,G., Konenenko,I, & Bratko,I. (1987). Assistant-86: A\r\n",
      "       Knowledge-Elicitation Tool for Sophisticated Users.  In I.Bratko\r\n",
      "       & N.Lavrac (Eds.) Progress in Machine Learning, 31-45, Sigma Press.\r\n",
      "       -- Assistant-86: 78% accuracy\r\n",
      "\r\n",
      "4. Relevant Information:\r\n",
      "     This is one of three domains provided by the Oncology Institute\r\n",
      "     that has repeatedly appeared in the machine learning literature.\r\n",
      "     (See also lymphography and primary-tumor.)\r\n",
      "\r\n",
      "     This data set includes 201 instances of one class and 85 instances of\r\n",
      "     another class.  The instances are described by 9 attributes, some of\r\n",
      "     which are linear and some are nominal.\r\n",
      "\r\n",
      "5. Number of Instances: 286\r\n",
      "\r\n",
      "6. Number of Attributes: 9 + the class attribute\r\n",
      "\r\n",
      "7. Attribute Information:\r\n",
      "   1. Class: no-recurrence-events, recurrence-events\r\n",
      "   2. age: 10-19, 20-29, 30-39, 40-49, 50-59, 60-69, 70-79, 80-89, 90-99.\r\n",
      "   3. menopause: lt40, ge40, premeno.\r\n",
      "   4. tumor-size: 0-4, 5-9, 10-14, 15-19, 20-24, 25-29, 30-34, 35-39, 40-44,\r\n",
      "                  45-49, 50-54, 55-59.\r\n",
      "   5. inv-nodes: 0-2, 3-5, 6-8, 9-11, 12-14, 15-17, 18-20, 21-23, 24-26,\r\n",
      "                 27-29, 30-32, 33-35, 36-39.\r\n",
      "   6. node-caps: yes, no.\r\n",
      "   7. deg-malig: 1, 2, 3.\r\n",
      "   8. breast: left, right.\r\n",
      "   9. breast-quad: left-up, left-low, right-up,\tright-low, central.\r\n",
      "  10. irradiat:\tyes, no.\r\n",
      "\r\n",
      "8. Missing Attribute Values: (denoted by \"?\")\r\n",
      "   Attribute #:  Number of instances with missing values:\r\n",
      "   6.             8\r\n",
      "   9.             1.\r\n",
      "\r\n",
      "9. Class Distribution:\r\n",
      "    1. no-recurrence-events: 201 instances\r\n",
      "    2. recurrence-events: 85 instances"
     ]
    }
   ],
   "source": [
    "!cat breast_cancer_names.txt"
   ]
  },
  {
   "cell_type": "markdown",
   "metadata": {},
   "source": [
    "## AIM AND SOME INFORMATION \n",
    "predict the recurrence of breast cancer in the dataset.\n",
    "note (obtain from one of the papers) : \"The set of attributes was found to be relatively\n",
    "incomplete, ie. not sufficient to induce high quality rules.\" >> some feature engineering. \n",
    "\n",
    "Performance Metric: We want to predict a reccurence event given the above set of attributes. We would preferably want a model with low False Negative Rate (saying that there will be no reccurrence when infact there is a reccurence). Here, I used the f1-score, which is directly proportional to the sensitivity."
   ]
  },
  {
   "cell_type": "markdown",
   "metadata": {},
   "source": [
    "<img src=\"var_description.png\">"
   ]
  },
  {
   "cell_type": "markdown",
   "metadata": {},
   "source": [
    "### EDA"
   ]
  },
  {
   "cell_type": "code",
   "execution_count": 2,
   "metadata": {},
   "outputs": [
    {
     "name": "stderr",
     "output_type": "stream",
     "text": [
      "Matplotlib is building the font cache; this may take a moment.\n"
     ]
    }
   ],
   "source": [
    "# require packages\n",
    "import pandas as pd\n",
    "import numpy as np\n",
    "from matplotlib import pyplot as plt\n",
    "from matplotlib.style import use\n",
    "from IPython.core.pylabtools import figsize\n",
    "\n",
    "use('ggplot')\n",
    "%matplotlib inline\n",
    "# Global Seed\n",
    "RANDOM_SEED = 2020\n",
    "np.random.seed(RANDOM_SEED)"
   ]
  },
  {
   "cell_type": "code",
   "execution_count": 15,
   "metadata": {},
   "outputs": [],
   "source": [
    "variable_names = ['Class', 'age', 'menopause', 'tumor_size', 'inv_nodes', \n",
    "                  'node_caps', 'deg_malig', 'breast', 'breast_quad', 'irradiat']\n",
    "breast_cancer  = pd.read_csv('breast_cancer.csv', na_values='?', names=variable_names, dtype='object')"
   ]
  },
  {
   "cell_type": "code",
   "execution_count": 16,
   "metadata": {},
   "outputs": [],
   "source": [
    "class_dict = {'no-recurrence-events':0, 'recurrence-events':1}\n",
    "breast_cancer[\"Class\"] = breast_cancer[\"Class\"].map(class_dict)"
   ]
  },
  {
   "cell_type": "code",
   "execution_count": 17,
   "metadata": {},
   "outputs": [
    {
     "data": {
      "text/html": [
       "<div>\n",
       "<style scoped>\n",
       "    .dataframe tbody tr th:only-of-type {\n",
       "        vertical-align: middle;\n",
       "    }\n",
       "\n",
       "    .dataframe tbody tr th {\n",
       "        vertical-align: top;\n",
       "    }\n",
       "\n",
       "    .dataframe thead th {\n",
       "        text-align: right;\n",
       "    }\n",
       "</style>\n",
       "<table border=\"1\" class=\"dataframe\">\n",
       "  <thead>\n",
       "    <tr style=\"text-align: right;\">\n",
       "      <th></th>\n",
       "      <th>Class</th>\n",
       "      <th>age</th>\n",
       "      <th>menopause</th>\n",
       "      <th>tumor_size</th>\n",
       "      <th>inv_nodes</th>\n",
       "      <th>node_caps</th>\n",
       "      <th>deg_malig</th>\n",
       "      <th>breast</th>\n",
       "      <th>breast_quad</th>\n",
       "      <th>irradiat</th>\n",
       "    </tr>\n",
       "  </thead>\n",
       "  <tbody>\n",
       "    <tr>\n",
       "      <th>0</th>\n",
       "      <td>0</td>\n",
       "      <td>30-39</td>\n",
       "      <td>premeno</td>\n",
       "      <td>30-34</td>\n",
       "      <td>0-2</td>\n",
       "      <td>no</td>\n",
       "      <td>3</td>\n",
       "      <td>left</td>\n",
       "      <td>left_low</td>\n",
       "      <td>no</td>\n",
       "    </tr>\n",
       "    <tr>\n",
       "      <th>1</th>\n",
       "      <td>0</td>\n",
       "      <td>40-49</td>\n",
       "      <td>premeno</td>\n",
       "      <td>20-24</td>\n",
       "      <td>0-2</td>\n",
       "      <td>no</td>\n",
       "      <td>2</td>\n",
       "      <td>right</td>\n",
       "      <td>right_up</td>\n",
       "      <td>no</td>\n",
       "    </tr>\n",
       "    <tr>\n",
       "      <th>2</th>\n",
       "      <td>0</td>\n",
       "      <td>40-49</td>\n",
       "      <td>premeno</td>\n",
       "      <td>20-24</td>\n",
       "      <td>0-2</td>\n",
       "      <td>no</td>\n",
       "      <td>2</td>\n",
       "      <td>left</td>\n",
       "      <td>left_low</td>\n",
       "      <td>no</td>\n",
       "    </tr>\n",
       "    <tr>\n",
       "      <th>3</th>\n",
       "      <td>0</td>\n",
       "      <td>60-69</td>\n",
       "      <td>ge40</td>\n",
       "      <td>15-19</td>\n",
       "      <td>0-2</td>\n",
       "      <td>no</td>\n",
       "      <td>2</td>\n",
       "      <td>right</td>\n",
       "      <td>left_up</td>\n",
       "      <td>no</td>\n",
       "    </tr>\n",
       "    <tr>\n",
       "      <th>4</th>\n",
       "      <td>0</td>\n",
       "      <td>40-49</td>\n",
       "      <td>premeno</td>\n",
       "      <td>0-4</td>\n",
       "      <td>0-2</td>\n",
       "      <td>no</td>\n",
       "      <td>2</td>\n",
       "      <td>right</td>\n",
       "      <td>right_low</td>\n",
       "      <td>no</td>\n",
       "    </tr>\n",
       "  </tbody>\n",
       "</table>\n",
       "</div>"
      ],
      "text/plain": [
       "   Class    age menopause tumor_size inv_nodes node_caps deg_malig breast  \\\n",
       "0      0  30-39   premeno      30-34       0-2        no         3   left   \n",
       "1      0  40-49   premeno      20-24       0-2        no         2  right   \n",
       "2      0  40-49   premeno      20-24       0-2        no         2   left   \n",
       "3      0  60-69      ge40      15-19       0-2        no         2  right   \n",
       "4      0  40-49   premeno        0-4       0-2        no         2  right   \n",
       "\n",
       "  breast_quad irradiat  \n",
       "0    left_low       no  \n",
       "1    right_up       no  \n",
       "2    left_low       no  \n",
       "3     left_up       no  \n",
       "4   right_low       no  "
      ]
     },
     "execution_count": 17,
     "metadata": {},
     "output_type": "execute_result"
    }
   ],
   "source": [
    "breast_cancer.head()"
   ]
  },
  {
   "cell_type": "code",
   "execution_count": 18,
   "metadata": {},
   "outputs": [
    {
     "name": "stdout",
     "output_type": "stream",
     "text": [
      "Shape of full data set: (286, 10)\n"
     ]
    }
   ],
   "source": [
    "print(f\"Shape of full data set: {breast_cancer.shape}\")"
   ]
  },
  {
   "cell_type": "code",
   "execution_count": 19,
   "metadata": {},
   "outputs": [],
   "source": [
    "def train_test_split(X, y, frac=0.85):\n",
    "    '''\n",
    "    splits data set X with labels y with 100*frac% for training/validation and the rest testing\n",
    "    '''\n",
    "    assert  X.shape[0] == y.shape[0]\n",
    "    m = X.shape[0]\n",
    "    split = int(frac*m)\n",
    "    ind = np.random.permutation(m)\n",
    "    train_ind = ind[:split]\n",
    "    test_ind = ind[split:]\n",
    "    X_train, y_train = X.iloc[train_ind], y[train_ind]\n",
    "    X_test, y_test = X.iloc[test_ind], y[test_ind]\n",
    "    return X_train, X_test, y_train, y_test"
   ]
  },
  {
   "cell_type": "code",
   "execution_count": 20,
   "metadata": {},
   "outputs": [],
   "source": [
    "y = breast_cancer.Class\n",
    "X = breast_cancer[variable_names[1:]]"
   ]
  },
  {
   "cell_type": "code",
   "execution_count": 21,
   "metadata": {},
   "outputs": [],
   "source": [
    "X_train, X_test, y_train, y_test = train_test_split(X, y)"
   ]
  },
  {
   "cell_type": "code",
   "execution_count": 22,
   "metadata": {},
   "outputs": [
    {
     "name": "stdout",
     "output_type": "stream",
     "text": [
      "Train data shape : (243, 9)\n",
      "Test data shape : (43, 9)\n"
     ]
    }
   ],
   "source": [
    "print(f\"Train data shape : {X_train.shape}\\nTest data shape : {X_test.shape}\")"
   ]
  },
  {
   "cell_type": "code",
   "execution_count": 23,
   "metadata": {},
   "outputs": [
    {
     "name": "stdout",
     "output_type": "stream",
     "text": [
      "<class 'pandas.core.frame.DataFrame'>\n",
      "Int64Index: 243 entries, 106 to 65\n",
      "Data columns (total 9 columns):\n",
      " #   Column       Non-Null Count  Dtype \n",
      "---  ------       --------------  ----- \n",
      " 0   age          243 non-null    object\n",
      " 1   menopause    243 non-null    object\n",
      " 2   tumor_size   243 non-null    object\n",
      " 3   inv_nodes    243 non-null    object\n",
      " 4   node_caps    235 non-null    object\n",
      " 5   deg_malig    243 non-null    object\n",
      " 6   breast       243 non-null    object\n",
      " 7   breast_quad  242 non-null    object\n",
      " 8   irradiat     243 non-null    object\n",
      "dtypes: object(9)\n",
      "memory usage: 19.0+ KB\n"
     ]
    }
   ],
   "source": [
    "X_train.info()"
   ]
  },
  {
   "cell_type": "code",
   "execution_count": 24,
   "metadata": {},
   "outputs": [
    {
     "data": {
      "text/plain": [
       "(array([0, 1]), array([201,  85]))"
      ]
     },
     "execution_count": 24,
     "metadata": {},
     "output_type": "execute_result"
    }
   ],
   "source": [
    "np.unique(y, return_counts=True)"
   ]
  },
  {
   "cell_type": "code",
   "execution_count": 25,
   "metadata": {},
   "outputs": [
    {
     "name": "stdout",
     "output_type": "stream",
     "text": [
      "50-59    83\n",
      "40-49    76\n",
      "60-69    51\n",
      "30-39    28\n",
      "70-79     4\n",
      "20-29     1\n",
      "Name: age, dtype: int64\n",
      "********************\n",
      "premeno    125\n",
      "ge40       112\n",
      "lt40         6\n",
      "Name: menopause, dtype: int64\n",
      "********************\n",
      "30-34    51\n",
      "25-29    49\n",
      "20-24    43\n",
      "15-19    25\n",
      "10-14    24\n",
      "40-44    17\n",
      "35-39    13\n",
      "50-54     8\n",
      "0-4       6\n",
      "5-9       4\n",
      "45-49     3\n",
      "Name: tumor_size, dtype: int64\n",
      "********************\n",
      "0-2      181\n",
      "3-5       29\n",
      "6-8       17\n",
      "9-11       8\n",
      "15-17      4\n",
      "12-14      3\n",
      "24-26      1\n",
      "Name: inv_nodes, dtype: int64\n",
      "********************\n",
      "no     187\n",
      "yes     48\n",
      "Name: node_caps, dtype: int64\n",
      "********************\n",
      "2    109\n",
      "3     71\n",
      "1     63\n",
      "Name: deg_malig, dtype: int64\n",
      "********************\n",
      "left     134\n",
      "right    109\n",
      "Name: breast, dtype: int64\n",
      "********************\n",
      "left_low     95\n",
      "left_up      84\n",
      "right_up     25\n",
      "right_low    22\n",
      "central      16\n",
      "Name: breast_quad, dtype: int64\n",
      "********************\n",
      "no     182\n",
      "yes     61\n",
      "Name: irradiat, dtype: int64\n",
      "********************\n"
     ]
    }
   ],
   "source": [
    "for i in range(1, len(variable_names)):\n",
    "    var_name = variable_names[i]\n",
    "    print(X_train.loc[:, var_name].value_counts())\n",
    "    print(20*'*')"
   ]
  },
  {
   "cell_type": "code",
   "execution_count": 26,
   "metadata": {},
   "outputs": [],
   "source": [
    "import sys\n",
    "if '/home/muhammed/.python_utilities/' not in sys.path:\n",
    "    sys.path.append('/home/muhammed/.python_utilities/')"
   ]
  },
  {
   "cell_type": "code",
   "execution_count": 27,
   "metadata": {},
   "outputs": [],
   "source": [
    "# for utility functions\n",
    "import utilities "
   ]
  },
  {
   "cell_type": "code",
   "execution_count": 28,
   "metadata": {},
   "outputs": [
    {
     "data": {
      "text/html": [
       "<div>\n",
       "<style scoped>\n",
       "    .dataframe tbody tr th:only-of-type {\n",
       "        vertical-align: middle;\n",
       "    }\n",
       "\n",
       "    .dataframe tbody tr th {\n",
       "        vertical-align: top;\n",
       "    }\n",
       "\n",
       "    .dataframe thead th {\n",
       "        text-align: right;\n",
       "    }\n",
       "</style>\n",
       "<table border=\"1\" class=\"dataframe\">\n",
       "  <thead>\n",
       "    <tr style=\"text-align: right;\">\n",
       "      <th></th>\n",
       "      <th>age</th>\n",
       "      <th>menopause</th>\n",
       "      <th>tumor_size</th>\n",
       "      <th>inv_nodes</th>\n",
       "      <th>node_caps</th>\n",
       "      <th>deg_malig</th>\n",
       "      <th>breast</th>\n",
       "      <th>breast_quad</th>\n",
       "      <th>irradiat</th>\n",
       "    </tr>\n",
       "  </thead>\n",
       "  <tbody>\n",
       "    <tr>\n",
       "      <th>106</th>\n",
       "      <td>40-49</td>\n",
       "      <td>premeno</td>\n",
       "      <td>20-24</td>\n",
       "      <td>0-2</td>\n",
       "      <td>no</td>\n",
       "      <td>2</td>\n",
       "      <td>left</td>\n",
       "      <td>left_up</td>\n",
       "      <td>no</td>\n",
       "    </tr>\n",
       "    <tr>\n",
       "      <th>140</th>\n",
       "      <td>50-59</td>\n",
       "      <td>ge40</td>\n",
       "      <td>40-44</td>\n",
       "      <td>3-5</td>\n",
       "      <td>yes</td>\n",
       "      <td>2</td>\n",
       "      <td>left</td>\n",
       "      <td>left_low</td>\n",
       "      <td>no</td>\n",
       "    </tr>\n",
       "    <tr>\n",
       "      <th>155</th>\n",
       "      <td>60-69</td>\n",
       "      <td>ge40</td>\n",
       "      <td>40-44</td>\n",
       "      <td>3-5</td>\n",
       "      <td>no</td>\n",
       "      <td>2</td>\n",
       "      <td>right</td>\n",
       "      <td>left_up</td>\n",
       "      <td>yes</td>\n",
       "    </tr>\n",
       "    <tr>\n",
       "      <th>61</th>\n",
       "      <td>40-49</td>\n",
       "      <td>premeno</td>\n",
       "      <td>10-14</td>\n",
       "      <td>0-2</td>\n",
       "      <td>no</td>\n",
       "      <td>1</td>\n",
       "      <td>right</td>\n",
       "      <td>right_low</td>\n",
       "      <td>no</td>\n",
       "    </tr>\n",
       "    <tr>\n",
       "      <th>2</th>\n",
       "      <td>40-49</td>\n",
       "      <td>premeno</td>\n",
       "      <td>20-24</td>\n",
       "      <td>0-2</td>\n",
       "      <td>no</td>\n",
       "      <td>2</td>\n",
       "      <td>left</td>\n",
       "      <td>left_low</td>\n",
       "      <td>no</td>\n",
       "    </tr>\n",
       "    <tr>\n",
       "      <th>...</th>\n",
       "      <td>...</td>\n",
       "      <td>...</td>\n",
       "      <td>...</td>\n",
       "      <td>...</td>\n",
       "      <td>...</td>\n",
       "      <td>...</td>\n",
       "      <td>...</td>\n",
       "      <td>...</td>\n",
       "      <td>...</td>\n",
       "    </tr>\n",
       "    <tr>\n",
       "      <th>33</th>\n",
       "      <td>50-59</td>\n",
       "      <td>ge40</td>\n",
       "      <td>10-14</td>\n",
       "      <td>0-2</td>\n",
       "      <td>no</td>\n",
       "      <td>1</td>\n",
       "      <td>right</td>\n",
       "      <td>left_up</td>\n",
       "      <td>no</td>\n",
       "    </tr>\n",
       "    <tr>\n",
       "      <th>183</th>\n",
       "      <td>50-59</td>\n",
       "      <td>ge40</td>\n",
       "      <td>30-34</td>\n",
       "      <td>9-11</td>\n",
       "      <td>no</td>\n",
       "      <td>3</td>\n",
       "      <td>left</td>\n",
       "      <td>left_up</td>\n",
       "      <td>yes</td>\n",
       "    </tr>\n",
       "    <tr>\n",
       "      <th>66</th>\n",
       "      <td>40-49</td>\n",
       "      <td>premeno</td>\n",
       "      <td>25-29</td>\n",
       "      <td>0-2</td>\n",
       "      <td>no</td>\n",
       "      <td>1</td>\n",
       "      <td>right</td>\n",
       "      <td>right_low</td>\n",
       "      <td>no</td>\n",
       "    </tr>\n",
       "    <tr>\n",
       "      <th>170</th>\n",
       "      <td>30-39</td>\n",
       "      <td>premeno</td>\n",
       "      <td>20-24</td>\n",
       "      <td>3-5</td>\n",
       "      <td>yes</td>\n",
       "      <td>2</td>\n",
       "      <td>right</td>\n",
       "      <td>left_up</td>\n",
       "      <td>yes</td>\n",
       "    </tr>\n",
       "    <tr>\n",
       "      <th>65</th>\n",
       "      <td>40-49</td>\n",
       "      <td>premeno</td>\n",
       "      <td>10-14</td>\n",
       "      <td>0-2</td>\n",
       "      <td>no</td>\n",
       "      <td>1</td>\n",
       "      <td>right</td>\n",
       "      <td>left_up</td>\n",
       "      <td>no</td>\n",
       "    </tr>\n",
       "  </tbody>\n",
       "</table>\n",
       "<p>243 rows × 9 columns</p>\n",
       "</div>"
      ],
      "text/plain": [
       "       age menopause tumor_size inv_nodes node_caps deg_malig breast  \\\n",
       "106  40-49   premeno      20-24       0-2        no         2   left   \n",
       "140  50-59      ge40      40-44       3-5       yes         2   left   \n",
       "155  60-69      ge40      40-44       3-5        no         2  right   \n",
       "61   40-49   premeno      10-14       0-2        no         1  right   \n",
       "2    40-49   premeno      20-24       0-2        no         2   left   \n",
       "..     ...       ...        ...       ...       ...       ...    ...   \n",
       "33   50-59      ge40      10-14       0-2        no         1  right   \n",
       "183  50-59      ge40      30-34      9-11        no         3   left   \n",
       "66   40-49   premeno      25-29       0-2        no         1  right   \n",
       "170  30-39   premeno      20-24       3-5       yes         2  right   \n",
       "65   40-49   premeno      10-14       0-2        no         1  right   \n",
       "\n",
       "    breast_quad irradiat  \n",
       "106     left_up       no  \n",
       "140    left_low       no  \n",
       "155     left_up      yes  \n",
       "61    right_low       no  \n",
       "2      left_low       no  \n",
       "..          ...      ...  \n",
       "33      left_up       no  \n",
       "183     left_up      yes  \n",
       "66    right_low       no  \n",
       "170     left_up      yes  \n",
       "65      left_up       no  \n",
       "\n",
       "[243 rows x 9 columns]"
      ]
     },
     "execution_count": 28,
     "metadata": {},
     "output_type": "execute_result"
    }
   ],
   "source": [
    "# import warnings\n",
    "# warnings.filterwarnings('ignore')\n",
    "imputer = utilities.column_imputer(colnames=['node_caps', 'breast_quad'])\n",
    "imputer.fit_transform(X_train)"
   ]
  },
  {
   "cell_type": "code",
   "execution_count": 29,
   "metadata": {},
   "outputs": [
    {
     "name": "stdout",
     "output_type": "stream",
     "text": [
      "The number of missing value in  breast_quad : 0\n",
      "The number of missing values in node_caps : 0\n",
      "Number of variables with missing values : 0\n"
     ]
    }
   ],
   "source": [
    "# sanity check\n",
    "print(f\"The number of missing value in  breast_quad : {X_train['breast_quad'].isna().sum()}\")\n",
    "print(f\"The number of missing values in node_caps : {X_train['node_caps'].isna().sum()}\")\n",
    "print(f\"Number of variables with missing values : {X_train.isna().any().sum()}\")"
   ]
  },
  {
   "cell_type": "code",
   "execution_count": 30,
   "metadata": {},
   "outputs": [],
   "source": [
    "import seaborn as sns"
   ]
  },
  {
   "cell_type": "code",
   "execution_count": 31,
   "metadata": {},
   "outputs": [],
   "source": [
    "def countplot(var):\n",
    "    figsize(8, 6)\n",
    "    ind = np.argsort(X_train[var])\n",
    "    sns.countplot(x = X_train[var].iloc[ind], hue = y_train.iloc[ind])\n",
    "    plt.show()"
   ]
  },
  {
   "cell_type": "code",
   "execution_count": 32,
   "metadata": {},
   "outputs": [
    {
     "data": {
      "image/png": "[encoded data removed]",
      "text/plain": [
       "<Figure size 576x432 with 1 Axes>"
      ]
     },
     "metadata": {
      "needs_background": "light"
     },
     "output_type": "display_data"
    },
    {
     "data": {
      "image/png": "[encoded data removed]",
      "text/plain": [
       "<Figure size 576x432 with 1 Axes>"
      ]
     },
     "metadata": {
      "needs_background": "light"
     },
     "output_type": "display_data"
    },
    {
     "data": {
      "image/png": "[encoded data removed]",
      "text/plain": [
       "<Figure size 576x432 with 1 Axes>"
      ]
     },
     "metadata": {
      "needs_background": "light"
     },
     "output_type": "display_data"
    },
    {
     "data": {
      "image/png": "[encoded data removed]",
      "text/plain": [
       "<Figure size 576x432 with 1 Axes>"
      ]
     },
     "metadata": {
      "needs_background": "light"
     },
     "output_type": "display_data"
    },
    {
     "data": {
      "image/png": "[encoded data removed]",
      "text/plain": [
       "<Figure size 576x432 with 1 Axes>"
      ]
     },
     "metadata": {
      "needs_background": "light"
     },
     "output_type": "display_data"
    },
    {
     "data": {
      "image/png": "[encoded data removed]",
      "text/plain": [
       "<Figure size 576x432 with 1 Axes>"
      ]
     },
     "metadata": {
      "needs_background": "light"
     },
     "output_type": "display_data"
    },
    {
     "data": {
      "image/png": "[encoded data removed]",
      "text/plain": [
       "<Figure size 576x432 with 1 Axes>"
      ]
     },
     "metadata": {
      "needs_background": "light"
     },
     "output_type": "display_data"
    },
    {
     "data": {
      "image/png": "[encoded data removed]",
      "text/plain": [
       "<Figure size 576x432 with 1 Axes>"
      ]
     },
     "metadata": {
      "needs_background": "light"
     },
     "output_type": "display_data"
    },
    {
     "data": {
      "image/png": "[encoded data removed]",
      "text/plain": [
       "<Figure size 576x432 with 1 Axes>"
      ]
     },
     "metadata": {
      "needs_background": "light"
     },
     "output_type": "display_data"
    }
   ],
   "source": [
    "for name in variable_names[1:]:\n",
    "    countplot(name)"
   ]
  },
  {
   "cell_type": "code",
   "execution_count": 33,
   "metadata": {},
   "outputs": [],
   "source": [
    "# chi sqaure test of association"
   ]
  },
  {
   "cell_type": "code",
   "execution_count": 34,
   "metadata": {},
   "outputs": [
    {
     "name": "stdout",
     "output_type": "stream",
     "text": [
      "age vs menopause\n",
      "menopause  ge40  lt40  premeno\n",
      "age                           \n",
      "20-29         0     0        1\n",
      "30-39         0     1       27\n",
      "40-49         8     0       68\n",
      "50-59        51     3       29\n",
      "60-69        49     2        0\n",
      "70-79         4     0        0\n",
      "{'chi2_stat': 137.18646291490597, 'p-val': 1.5883382840881292e-24}\n",
      "\n",
      "\n",
      "age vs tumor_size\n",
      "tumor_size  0-4  10-14  15-19  20-24  25-29  30-34  35-39  40-44  45-49  5-9  \\\n",
      "age                                                                            \n",
      "20-29         0      0      0      0      0      0      1      0      0    0   \n",
      "30-39         1      0      5      5      6      6      1      3      0    1   \n",
      "40-49         2      8      5     16     15     17      5      4      1    1   \n",
      "50-59         2      8      7     13     19     18      5      7      0    1   \n",
      "60-69         0      8      7      8      9     10      1      2      2    1   \n",
      "70-79         1      0      1      1      0      0      0      1      0    0   \n",
      "\n",
      "tumor_size  50-54  \n",
      "age                \n",
      "20-29           0  \n",
      "30-39           0  \n",
      "40-49           2  \n",
      "50-59           3  \n",
      "60-69           3  \n",
      "70-79           0  \n",
      "{'chi2_stat': 52.66586731206108, 'p-val': 0.37129311312055124}\n",
      "\n",
      "\n",
      "age vs inv_nodes\n",
      "inv_nodes  0-2  12-14  15-17  24-26  3-5  6-8  9-11\n",
      "age                                                \n",
      "20-29        1      0      0      0    0    0     0\n",
      "30-39       18      0      0      0    5    4     1\n",
      "40-49       58      3      3      0    7    3     2\n",
      "50-59       62      0      1      0   10    6     4\n",
      "60-69       39      0      0      1    7    4     0\n",
      "70-79        3      0      0      0    0    0     1\n",
      "{'chi2_stat': 28.531106722964537, 'p-val': 0.5423143278398314}\n",
      "\n",
      "\n",
      "age vs node_caps\n",
      "node_caps  no  yes\n",
      "age               \n",
      "20-29       1    0\n",
      "30-39      21    7\n",
      "40-49      60   16\n",
      "50-59      65   18\n",
      "60-69      44    7\n",
      "70-79       4    0\n",
      "{'chi2_stat': 3.1627700639423617, 'p-val': 0.6749078661988404}\n",
      "\n",
      "\n",
      "age vs deg_malig\n",
      "deg_malig   1   2   3\n",
      "age                  \n",
      "20-29       0   1   0\n",
      "30-39       6  14   8\n",
      "40-49      16  40  20\n",
      "50-59      21  35  27\n",
      "60-69      17  19  15\n",
      "70-79       3   0   1\n",
      "{'chi2_stat': 11.285509380083067, 'p-val': 0.33571115889626163}\n",
      "\n",
      "\n",
      "age vs breast\n",
      "breast  left  right\n",
      "age                \n",
      "20-29      0      1\n",
      "30-39     16     12\n",
      "40-49     38     38\n",
      "50-59     50     33\n",
      "60-69     27     24\n",
      "70-79      3      1\n",
      "{'chi2_stat': 3.6969404162087827, 'p-val': 0.5938193394523765}\n",
      "\n",
      "\n",
      "age vs breast_quad\n",
      "breast_quad  central  left_low  left_up  right_low  right_up\n",
      "age                                                         \n",
      "20-29              0         0        0          0         1\n",
      "30-39              3        11        9          3         2\n",
      "40-49              2        30       25         10         9\n",
      "50-59              7        35       26          6         9\n",
      "60-69              4        19       22          2         4\n",
      "70-79              0         1        2          1         0\n",
      "{'chi2_stat': 19.806543175046574, 'p-val': 0.4700884087717663}\n",
      "\n",
      "\n",
      "menopause vs tumor_size\n",
      "tumor_size  0-4  10-14  15-19  20-24  25-29  30-34  35-39  40-44  45-49  5-9  \\\n",
      "menopause                                                                      \n",
      "ge40          3     12     11     22     17     24      5     10      2    2   \n",
      "lt40          0      1      2      2      0      1      0      0      0    0   \n",
      "premeno       3     11     12     19     32     26      8      7      1    2   \n",
      "\n",
      "tumor_size  50-54  \n",
      "menopause          \n",
      "ge40            4  \n",
      "lt40            0  \n",
      "premeno         4  \n",
      "{'chi2_stat': 12.842912132093316, 'p-val': 0.8840217458399544}\n",
      "\n",
      "\n",
      "menopause vs inv_nodes\n",
      "inv_nodes  0-2  12-14  15-17  24-26  3-5  6-8  9-11\n",
      "menopause                                          \n",
      "ge40        81      1      2      1   13   10     4\n",
      "lt40         6      0      0      0    0    0     0\n",
      "premeno     94      2      2      0   16    7     4\n",
      "{'chi2_stat': 4.599667755042577, 'p-val': 0.9700332386720548}\n",
      "\n",
      "\n",
      "menopause vs node_caps\n",
      "node_caps  no  yes\n",
      "menopause         \n",
      "ge40       92   20\n",
      "lt40        6    0\n",
      "premeno    97   28\n",
      "{'chi2_stat': 2.283398901098901, 'p-val': 0.3192759667822427}\n",
      "\n",
      "\n",
      "menopause vs deg_malig\n",
      "deg_malig   1   2   3\n",
      "menopause            \n",
      "ge40       32  39  41\n",
      "lt40        4   1   1\n",
      "premeno    27  69  29\n",
      "{'chi2_stat': 15.5705180545923, 'p-val': 0.00365308296150745}\n",
      "\n",
      "\n",
      "menopause vs breast\n",
      "breast     left  right\n",
      "menopause             \n",
      "ge40         63     49\n",
      "lt40          5      1\n",
      "premeno      66     59\n",
      "{'chi2_stat': 2.2605771258386964, 'p-val': 0.32294005445069657}\n",
      "\n",
      "\n",
      "menopause vs breast_quad\n",
      "breast_quad  central  left_low  left_up  right_low  right_up\n",
      "menopause                                                   \n",
      "ge40              11        41       43          8         9\n",
      "lt40               0         3        2          0         1\n",
      "premeno            5        52       39         14        15\n",
      "{'chi2_stat': 7.6530825313079776, 'p-val': 0.46807008813477124}\n",
      "\n",
      "\n",
      "tumor_size vs inv_nodes\n",
      "inv_nodes   0-2  12-14  15-17  24-26  3-5  6-8  9-11\n",
      "tumor_size                                          \n",
      "0-4           6      0      0      0    0    0     0\n",
      "10-14        23      0      0      0    0    1     0\n",
      "15-19        21      1      1      0    0    1     1\n",
      "20-24        30      0      0      1   11    1     0\n",
      "25-29        37      1      0      0    7    3     1\n",
      "30-34        29      1      1      0    9    7     4\n",
      "35-39        10      0      1      0    0    1     1\n",
      "40-44        12      0      1      0    2    2     0\n",
      "45-49         2      0      0      0    0    1     0\n",
      "5-9           4      0      0      0    0    0     0\n",
      "50-54         7      0      0      0    0    0     1\n",
      "{'chi2_stat': 58.982162769740626, 'p-val': 0.5129449119556345}\n",
      "\n",
      "\n",
      "tumor_size vs node_caps\n",
      "node_caps   no  yes\n",
      "tumor_size         \n",
      "0-4          6    0\n",
      "10-14       23    1\n",
      "15-19       21    4\n",
      "20-24       34    9\n",
      "25-29       41    8\n",
      "30-34       36   15\n",
      "35-39        9    4\n",
      "40-44       13    4\n",
      "45-49        2    1\n",
      "5-9          4    0\n",
      "50-54        6    2\n",
      "{'chi2_stat': 11.40019364703016, 'p-val': 0.32720055323439245}\n",
      "\n",
      "\n",
      "tumor_size vs deg_malig\n",
      "deg_malig    1   2   3\n",
      "tumor_size            \n",
      "0-4          2   3   1\n",
      "10-14       12  10   2\n",
      "15-19        8  11   6\n",
      "20-24        9  24  10\n",
      "25-29       11  24  14\n",
      "30-34       11  16  24\n",
      "35-39        2   4   7\n",
      "40-44        4   8   5\n",
      "45-49        1   1   1\n",
      "5-9          2   2   0\n",
      "50-54        1   6   1\n",
      "{'chi2_stat': 29.672185969266046, 'p-val': 0.07534241365223505}\n",
      "\n",
      "\n",
      "tumor_size vs breast\n",
      "breast      left  right\n",
      "tumor_size             \n",
      "0-4            3      3\n",
      "10-14         14     10\n",
      "15-19         13     12\n",
      "20-24         24     19\n",
      "25-29         29     20\n",
      "30-34         28     23\n",
      "35-39          7      6\n",
      "40-44          9      8\n",
      "45-49          2      1\n",
      "5-9            3      1\n",
      "50-54          2      6\n",
      "{'chi2_stat': 4.374686358194347, 'p-val': 0.9288654491108185}\n",
      "\n",
      "\n",
      "tumor_size vs breast_quad\n",
      "breast_quad  central  left_low  left_up  right_low  right_up\n",
      "tumor_size                                                  \n",
      "0-4                4         0        0          2         0\n",
      "10-14              0        11       11          1         1\n",
      "15-19              3        11        8          3         0\n",
      "20-24              3        17       17          3         3\n",
      "25-29              1        22       13          8         5\n",
      "30-34              3        16       19          4         9\n",
      "35-39              0         7        4          0         2\n",
      "40-44              0         7        8          0         2\n",
      "45-49              1         1        0          0         1\n",
      "5-9                1         1        0          1         1\n",
      "50-54              0         3        4          0         1\n",
      "{'chi2_stat': 80.77944420315406, 'p-val': 0.00014247883952214137}\n",
      "\n",
      "\n"
     ]
    }
   ],
   "source": [
    "n = len(variable_names[1:])//2\n",
    "for i in range(1, n):\n",
    "    for j in range(i+1, len(variable_names[1:])):\n",
    "        print(f'{variable_names[i]} vs {variable_names[j]}')\n",
    "        print(utilities.chi2_test(X_train, variable_names[i], variable_names[j], print_crosstab=True))\n",
    "        print('\\n')\n",
    "        "
   ]
  },
  {
   "cell_type": "code",
   "execution_count": 35,
   "metadata": {},
   "outputs": [
    {
     "data": {
      "text/plain": [
       "50-59    83\n",
       "40-49    76\n",
       "60-69    51\n",
       "30-39    28\n",
       "70-79     4\n",
       "20-29     1\n",
       "Name: age, dtype: int64"
      ]
     },
     "execution_count": 35,
     "metadata": {},
     "output_type": "execute_result"
    }
   ],
   "source": [
    "X_train['age'].value_counts()"
   ]
  },
  {
   "cell_type": "code",
   "execution_count": 36,
   "metadata": {},
   "outputs": [
    {
     "data": {
      "text/plain": [
       "premeno    125\n",
       "ge40       112\n",
       "lt40         6\n",
       "Name: menopause, dtype: int64"
      ]
     },
     "execution_count": 36,
     "metadata": {},
     "output_type": "execute_result"
    }
   ],
   "source": [
    "X_train['menopause'].value_counts()"
   ]
  },
  {
   "cell_type": "code",
   "execution_count": 37,
   "metadata": {},
   "outputs": [
    {
     "name": "stdout",
     "output_type": "stream",
     "text": [
      "age    20-29  30-39  40-49  50-59  60-69  70-79\n",
      "Class                                          \n",
      "0          1     16     50     59     36      3\n",
      "1          0     12     26     24     15      1\n",
      "{'chi2_stat': 2.762413571172755, 'p-val': 0.7365572530351704}\n",
      "\n",
      "\n",
      "menopause  ge40  lt40  premeno\n",
      "Class                         \n",
      "0            80     4       81\n",
      "1            32     2       44\n",
      "{'chi2_stat': 1.195142457542459, 'p-val': 0.5501461940176916}\n",
      "\n",
      "\n",
      "tumor_size  0-4  10-14  15-19  20-24  25-29  30-34  35-39  40-44  45-49  5-9  \\\n",
      "Class                                                                          \n",
      "0             5     23     18     27     31     29      9     12      2    4   \n",
      "1             1      1      7     16     18     22      4      5      1    0   \n",
      "\n",
      "tumor_size  50-54  \n",
      "Class              \n",
      "0               5  \n",
      "1               3  \n",
      "{'chi2_stat': 15.356027126043632, 'p-val': 0.11961079859764569}\n",
      "\n",
      "\n",
      "inv_nodes  0-2  12-14  15-17  24-26  3-5  6-8  9-11\n",
      "Class                                              \n",
      "0          138      1      2      0   14    7     3\n",
      "1           43      2      2      1   15   10     5\n",
      "{'chi2_stat': 24.214859527610557, 'p-val': 0.00047679935145754983}\n",
      "\n",
      "\n",
      "node_caps   no  yes\n",
      "Class              \n",
      "0          144   21\n",
      "1           51   27\n",
      "{'chi2_stat': 16.0075759817106, 'p-val': 6.308951922538867e-05}\n",
      "\n",
      "\n",
      "deg_malig   1   2   3\n",
      "Class                \n",
      "0          51  83  31\n",
      "1          12  26  40\n",
      "{'chi2_stat': 27.46316859261684, 'p-val': 1.0875486968119846e-06}\n",
      "\n",
      "\n",
      "breast  left  right\n",
      "Class              \n",
      "0         89     76\n",
      "1         45     33\n",
      "{'chi2_stat': 0.30157177479510755, 'p-val': 0.5828987329624415}\n",
      "\n",
      "\n",
      "breast_quad  central  left_low  left_up  right_low  right_up\n",
      "Class                                                       \n",
      "0                 12        64       59         16        14\n",
      "1                  4        32       25          6        11\n",
      "{'chi2_stat': 2.5072630097175557, 'p-val': 0.6433357124916026}\n",
      "\n",
      "\n",
      "irradiat   no  yes\n",
      "Class             \n",
      "0         134   31\n",
      "1          48   30\n",
      "{'chi2_stat': 10.903198188948505, 'p-val': 0.0009599837130850104}\n",
      "\n",
      "\n"
     ]
    }
   ],
   "source": [
    "Xy_train = X_train.copy(deep=True)\n",
    "Xy_train['Class'] = y_train\n",
    "\n",
    "\n",
    "for name in variable_names[1:]:\n",
    "    #print(name)\n",
    "    print(utilities.chi2_test(Xy_train, 'Class', name, print_crosstab=1))\n",
    "    print('\\n')"
   ]
  },
  {
   "cell_type": "markdown",
   "metadata": {},
   "source": [
    "## Model Building"
   ]
  },
  {
   "cell_type": "code",
   "execution_count": 38,
   "metadata": {},
   "outputs": [],
   "source": [
    "# adding train and test for one-hot coding\n",
    "\n",
    "X_train['train'] = 1\n",
    "\n",
    "imputer.transform(X_test)\n",
    "X_test['train'] = 0\n",
    "X_train_test = pd.concat([X_train, X_test])\n",
    "X_train_test = pd.get_dummies(X_train_test)\n",
    "\n",
    "X_train = X_train_test.loc[X_train_test['train'] == 1, :]\n",
    "X_test = X_train_test.loc[X_train_test['train'] == 0, :]"
   ]
  },
  {
   "cell_type": "code",
   "execution_count": 39,
   "metadata": {},
   "outputs": [
    {
     "data": {
      "text/html": [
       "<div>\n",
       "<style scoped>\n",
       "    .dataframe tbody tr th:only-of-type {\n",
       "        vertical-align: middle;\n",
       "    }\n",
       "\n",
       "    .dataframe tbody tr th {\n",
       "        vertical-align: top;\n",
       "    }\n",
       "\n",
       "    .dataframe thead th {\n",
       "        text-align: right;\n",
       "    }\n",
       "</style>\n",
       "<table border=\"1\" class=\"dataframe\">\n",
       "  <thead>\n",
       "    <tr style=\"text-align: right;\">\n",
       "      <th></th>\n",
       "      <th>train</th>\n",
       "      <th>age_20-29</th>\n",
       "      <th>age_30-39</th>\n",
       "      <th>age_40-49</th>\n",
       "      <th>age_50-59</th>\n",
       "      <th>age_60-69</th>\n",
       "      <th>age_70-79</th>\n",
       "      <th>menopause_ge40</th>\n",
       "      <th>menopause_lt40</th>\n",
       "      <th>menopause_premeno</th>\n",
       "      <th>...</th>\n",
       "      <th>deg_malig_3</th>\n",
       "      <th>breast_left</th>\n",
       "      <th>breast_right</th>\n",
       "      <th>breast_quad_central</th>\n",
       "      <th>breast_quad_left_low</th>\n",
       "      <th>breast_quad_left_up</th>\n",
       "      <th>breast_quad_right_low</th>\n",
       "      <th>breast_quad_right_up</th>\n",
       "      <th>irradiat_no</th>\n",
       "      <th>irradiat_yes</th>\n",
       "    </tr>\n",
       "  </thead>\n",
       "  <tbody>\n",
       "    <tr>\n",
       "      <th>106</th>\n",
       "      <td>1</td>\n",
       "      <td>0</td>\n",
       "      <td>0</td>\n",
       "      <td>1</td>\n",
       "      <td>0</td>\n",
       "      <td>0</td>\n",
       "      <td>0</td>\n",
       "      <td>0</td>\n",
       "      <td>0</td>\n",
       "      <td>1</td>\n",
       "      <td>...</td>\n",
       "      <td>0</td>\n",
       "      <td>1</td>\n",
       "      <td>0</td>\n",
       "      <td>0</td>\n",
       "      <td>0</td>\n",
       "      <td>1</td>\n",
       "      <td>0</td>\n",
       "      <td>0</td>\n",
       "      <td>1</td>\n",
       "      <td>0</td>\n",
       "    </tr>\n",
       "    <tr>\n",
       "      <th>140</th>\n",
       "      <td>1</td>\n",
       "      <td>0</td>\n",
       "      <td>0</td>\n",
       "      <td>0</td>\n",
       "      <td>1</td>\n",
       "      <td>0</td>\n",
       "      <td>0</td>\n",
       "      <td>1</td>\n",
       "      <td>0</td>\n",
       "      <td>0</td>\n",
       "      <td>...</td>\n",
       "      <td>0</td>\n",
       "      <td>1</td>\n",
       "      <td>0</td>\n",
       "      <td>0</td>\n",
       "      <td>1</td>\n",
       "      <td>0</td>\n",
       "      <td>0</td>\n",
       "      <td>0</td>\n",
       "      <td>1</td>\n",
       "      <td>0</td>\n",
       "    </tr>\n",
       "    <tr>\n",
       "      <th>155</th>\n",
       "      <td>1</td>\n",
       "      <td>0</td>\n",
       "      <td>0</td>\n",
       "      <td>0</td>\n",
       "      <td>0</td>\n",
       "      <td>1</td>\n",
       "      <td>0</td>\n",
       "      <td>1</td>\n",
       "      <td>0</td>\n",
       "      <td>0</td>\n",
       "      <td>...</td>\n",
       "      <td>0</td>\n",
       "      <td>0</td>\n",
       "      <td>1</td>\n",
       "      <td>0</td>\n",
       "      <td>0</td>\n",
       "      <td>1</td>\n",
       "      <td>0</td>\n",
       "      <td>0</td>\n",
       "      <td>0</td>\n",
       "      <td>1</td>\n",
       "    </tr>\n",
       "    <tr>\n",
       "      <th>61</th>\n",
       "      <td>1</td>\n",
       "      <td>0</td>\n",
       "      <td>0</td>\n",
       "      <td>1</td>\n",
       "      <td>0</td>\n",
       "      <td>0</td>\n",
       "      <td>0</td>\n",
       "      <td>0</td>\n",
       "      <td>0</td>\n",
       "      <td>1</td>\n",
       "      <td>...</td>\n",
       "      <td>0</td>\n",
       "      <td>0</td>\n",
       "      <td>1</td>\n",
       "      <td>0</td>\n",
       "      <td>0</td>\n",
       "      <td>0</td>\n",
       "      <td>1</td>\n",
       "      <td>0</td>\n",
       "      <td>1</td>\n",
       "      <td>0</td>\n",
       "    </tr>\n",
       "    <tr>\n",
       "      <th>2</th>\n",
       "      <td>1</td>\n",
       "      <td>0</td>\n",
       "      <td>0</td>\n",
       "      <td>1</td>\n",
       "      <td>0</td>\n",
       "      <td>0</td>\n",
       "      <td>0</td>\n",
       "      <td>0</td>\n",
       "      <td>0</td>\n",
       "      <td>1</td>\n",
       "      <td>...</td>\n",
       "      <td>0</td>\n",
       "      <td>1</td>\n",
       "      <td>0</td>\n",
       "      <td>0</td>\n",
       "      <td>1</td>\n",
       "      <td>0</td>\n",
       "      <td>0</td>\n",
       "      <td>0</td>\n",
       "      <td>1</td>\n",
       "      <td>0</td>\n",
       "    </tr>\n",
       "  </tbody>\n",
       "</table>\n",
       "<p>5 rows × 42 columns</p>\n",
       "</div>"
      ],
      "text/plain": [
       "     train  age_20-29  age_30-39  age_40-49  age_50-59  age_60-69  age_70-79  \\\n",
       "106      1          0          0          1          0          0          0   \n",
       "140      1          0          0          0          1          0          0   \n",
       "155      1          0          0          0          0          1          0   \n",
       "61       1          0          0          1          0          0          0   \n",
       "2        1          0          0          1          0          0          0   \n",
       "\n",
       "     menopause_ge40  menopause_lt40  menopause_premeno  ...  deg_malig_3  \\\n",
       "106               0               0                  1  ...            0   \n",
       "140               1               0                  0  ...            0   \n",
       "155               1               0                  0  ...            0   \n",
       "61                0               0                  1  ...            0   \n",
       "2                 0               0                  1  ...            0   \n",
       "\n",
       "     breast_left  breast_right  breast_quad_central  breast_quad_left_low  \\\n",
       "106            1             0                    0                     0   \n",
       "140            1             0                    0                     1   \n",
       "155            0             1                    0                     0   \n",
       "61             0             1                    0                     0   \n",
       "2              1             0                    0                     1   \n",
       "\n",
       "     breast_quad_left_up  breast_quad_right_low  breast_quad_right_up  \\\n",
       "106                    1                      0                     0   \n",
       "140                    0                      0                     0   \n",
       "155                    1                      0                     0   \n",
       "61                     0                      1                     0   \n",
       "2                      0                      0                     0   \n",
       "\n",
       "     irradiat_no  irradiat_yes  \n",
       "106            1             0  \n",
       "140            1             0  \n",
       "155            0             1  \n",
       "61             1             0  \n",
       "2              1             0  \n",
       "\n",
       "[5 rows x 42 columns]"
      ]
     },
     "execution_count": 39,
     "metadata": {},
     "output_type": "execute_result"
    }
   ],
   "source": [
    "X_train.head()"
   ]
  },
  {
   "cell_type": "code",
   "execution_count": 40,
   "metadata": {},
   "outputs": [],
   "source": [
    "from xgboost import XGBClassifier"
   ]
  },
  {
   "cell_type": "code",
   "execution_count": 41,
   "metadata": {},
   "outputs": [],
   "source": [
    "xgb_clf = XGBClassifier()"
   ]
  },
  {
   "cell_type": "code",
   "execution_count": 42,
   "metadata": {},
   "outputs": [
    {
     "data": {
      "text/plain": [
       "XGBClassifier(base_score=0.5, booster='gbtree', colsample_bylevel=1,\n",
       "              colsample_bynode=1, colsample_bytree=1, gamma=0, gpu_id=-1,\n",
       "              importance_type='gain', interaction_constraints='',\n",
       "              learning_rate=0.300000012, max_delta_step=0, max_depth=6,\n",
       "              min_child_weight=1, missing=nan, monotone_constraints='()',\n",
       "              n_estimators=100, n_jobs=0, num_parallel_tree=1, random_state=0,\n",
       "              reg_alpha=0, reg_lambda=1, scale_pos_weight=1, subsample=1,\n",
       "              tree_method='exact', validate_parameters=1, verbosity=None)"
      ]
     },
     "execution_count": 42,
     "metadata": {},
     "output_type": "execute_result"
    }
   ],
   "source": [
    "xgb_clf.fit(X_train, y_train)"
   ]
  },
  {
   "cell_type": "code",
   "execution_count": 43,
   "metadata": {},
   "outputs": [],
   "source": [
    "from sklearn.metrics import f1_score, accuracy_score, roc_auc_score, make_scorer"
   ]
  },
  {
   "cell_type": "code",
   "execution_count": 44,
   "metadata": {},
   "outputs": [],
   "source": [
    "y_train_pred = xgb_clf.predict(X_train)"
   ]
  },
  {
   "cell_type": "code",
   "execution_count": 48,
   "metadata": {},
   "outputs": [],
   "source": [
    "def print_metrics(y_true, y_pred):\n",
    "    print(f\"f1 score : {f1_score(y_pred=y_pred, y_true=y_true)}\")\n",
    "    print(f'accuracy : {accuracy_score(y_pred=y_pred, y_true=y_true)}')"
   ]
  },
  {
   "cell_type": "code",
   "execution_count": 49,
   "metadata": {},
   "outputs": [
    {
     "name": "stdout",
     "output_type": "stream",
     "text": [
      "f1 score : 0.9615384615384616\n",
      "accuracy : 0.9753086419753086\n"
     ]
    }
   ],
   "source": [
    "print_metrics(y_pred=y_train_pred, y_true=[*y_train])"
   ]
  },
  {
   "cell_type": "code",
   "execution_count": 50,
   "metadata": {},
   "outputs": [],
   "source": [
    "y_test_pred = xgb_clf.predict(X_test)"
   ]
  },
  {
   "cell_type": "code",
   "execution_count": 51,
   "metadata": {},
   "outputs": [
    {
     "name": "stdout",
     "output_type": "stream",
     "text": [
      "f1 score : 0.631578947368421\n",
      "accuracy : 0.8372093023255814\n"
     ]
    }
   ],
   "source": [
    "print_metrics(y_true=y_test, y_pred=y_test_pred)"
   ]
  },
  {
   "cell_type": "code",
   "execution_count": 52,
   "metadata": {},
   "outputs": [
    {
     "data": {
      "text/plain": [
       "0.8372093023255814"
      ]
     },
     "execution_count": 52,
     "metadata": {},
     "output_type": "execute_result"
    }
   ],
   "source": [
    "accuracy_score(y_true=y_test, y_pred=y_test_pred)"
   ]
  },
  {
   "cell_type": "code",
   "execution_count": 57,
   "metadata": {},
   "outputs": [],
   "source": [
    "from sklearn.model_selection import GridSearchCV\n",
    "\n",
    "param_grid = {\n",
    "    'n_estimators': [20, 50, 100, 150],\n",
    "    'gamma': [None] + [*np.linspace(0, 1, 4)],\n",
    "    'reg_alpha': np.linspace(0, 1, 4),\n",
    "    'reg_lambda': np.linspace(0, 1, 4),\n",
    "    'base_score': np.linspace(0, 0.6, 4)\n",
    "    \n",
    "}\n",
    "\n",
    "\n",
    "grid_search = GridSearchCV(XGBClassifier(), param_grid=param_grid,\n",
    "                          n_jobs=-1, scoring='f1',\n",
    "                          cv=4, verbose=2, return_train_score=True)"
   ]
  },
  {
   "cell_type": "code",
   "execution_count": 58,
   "metadata": {},
   "outputs": [
    {
     "name": "stdout",
     "output_type": "stream",
     "text": [
      "Fitting 4 folds for each of 1280 candidates, totalling 5120 fits\n"
     ]
    },
    {
     "name": "stderr",
     "output_type": "stream",
     "text": [
      "[Parallel(n_jobs=-1)]: Using backend LokyBackend with 8 concurrent workers.\n",
      "[Parallel(n_jobs=-1)]: Done  34 tasks      | elapsed:    0.1s\n",
      "[Parallel(n_jobs=-1)]: Done 2270 tasks      | elapsed:   11.7s\n",
      "[Parallel(n_jobs=-1)]: Done 2828 tasks      | elapsed:   17.8s\n",
      "[Parallel(n_jobs=-1)]: Done 3960 tasks      | elapsed:   30.8s\n",
      "[Parallel(n_jobs=-1)]: Done 5120 out of 5120 | elapsed:   44.5s finished\n"
     ]
    },
    {
     "data": {
      "text/plain": [
       "GridSearchCV(cv=4,\n",
       "             estimator=XGBClassifier(base_score=None, booster=None,\n",
       "                                     colsample_bylevel=None,\n",
       "                                     colsample_bynode=None,\n",
       "                                     colsample_bytree=None, gamma=None,\n",
       "                                     gpu_id=None, importance_type='gain',\n",
       "                                     interaction_constraints=None,\n",
       "                                     learning_rate=None, max_delta_step=None,\n",
       "                                     max_depth=None, min_child_weight=None,\n",
       "                                     missing=nan, monotone_constraints=None,\n",
       "                                     n_estimators=100, n_jobs...\n",
       "                                     tree_method=None, validate_parameters=None,\n",
       "                                     verbosity=None),\n",
       "             n_jobs=-1,\n",
       "             param_grid={'base_score': array([0. , 0.2, 0.4, 0.6]),\n",
       "                         'gamma': [None, 0.0, 0.3333333333333333,\n",
       "                                   0.6666666666666666, 1.0],\n",
       "                         'n_estimators': [20, 50, 100, 150],\n",
       "                         'reg_alpha': array([0.        , 0.33333333, 0.66666667, 1.        ]),\n",
       "                         'reg_lambda': array([0.        , 0.33333333, 0.66666667, 1.        ])},\n",
       "             return_train_score=True, scoring='f1', verbose=2)"
      ]
     },
     "execution_count": 58,
     "metadata": {},
     "output_type": "execute_result"
    }
   ],
   "source": [
    "grid_search.fit(X_train, y_train)"
   ]
  },
  {
   "cell_type": "code",
   "execution_count": 59,
   "metadata": {},
   "outputs": [
    {
     "data": {
      "text/plain": [
       "0.46999685041480704"
      ]
     },
     "execution_count": 59,
     "metadata": {},
     "output_type": "execute_result"
    }
   ],
   "source": [
    "grid_search.best_score_"
   ]
  },
  {
   "cell_type": "code",
   "execution_count": 60,
   "metadata": {},
   "outputs": [],
   "source": [
    "clf = grid_search.best_estimator_"
   ]
  },
  {
   "cell_type": "code",
   "execution_count": 61,
   "metadata": {},
   "outputs": [
    {
     "name": "stdout",
     "output_type": "stream",
     "text": [
      "f1 score : 0.588235294117647\n",
      "accuracy : 0.8372093023255814\n"
     ]
    }
   ],
   "source": [
    "y_train_pred = clf.predict(X_test)\n",
    "print_metrics(y_pred=y_train_pred, y_true=y_test)"
   ]
  },
  {
   "cell_type": "code",
   "execution_count": 62,
   "metadata": {},
   "outputs": [],
   "source": [
    "from sklearn.ensemble import RandomForestClassifier\n"
   ]
  },
  {
   "cell_type": "code",
   "execution_count": 63,
   "metadata": {},
   "outputs": [],
   "source": [
    "clf_forest = RandomForestClassifier()"
   ]
  },
  {
   "cell_type": "code",
   "execution_count": 64,
   "metadata": {},
   "outputs": [
    {
     "data": {
      "text/plain": [
       "RandomForestClassifier()"
      ]
     },
     "execution_count": 64,
     "metadata": {},
     "output_type": "execute_result"
    }
   ],
   "source": [
    "clf_forest.fit(X_train, y_train)"
   ]
  },
  {
   "cell_type": "code",
   "execution_count": 65,
   "metadata": {},
   "outputs": [],
   "source": [
    "y_train_pred = clf_forest.predict(X_train)"
   ]
  },
  {
   "cell_type": "code",
   "execution_count": 66,
   "metadata": {},
   "outputs": [
    {
     "name": "stdout",
     "output_type": "stream",
     "text": [
      "f1 score : 0.974025974025974\n",
      "accuracy : 0.9835390946502057\n"
     ]
    }
   ],
   "source": [
    "print_metrics(y_pred=y_train_pred, y_true=y_train)"
   ]
  },
  {
   "cell_type": "code",
   "execution_count": 67,
   "metadata": {},
   "outputs": [
    {
     "name": "stdout",
     "output_type": "stream",
     "text": [
      "f1 score : 0.47058823529411764\n",
      "accuracy : 0.7906976744186046\n"
     ]
    }
   ],
   "source": [
    "y_test_pred = clf_forest.predict(X_test)\n",
    "print_metrics(y_true=y_test, y_pred=y_test_pred)"
   ]
  },
  {
   "cell_type": "code",
   "execution_count": null,
   "metadata": {},
   "outputs": [],
   "source": [
    "param_grid = {\n",
    "    'n_estimators': [20, 50, 100, 200],\n",
    "    'min_samples_split': [2, 5, 8],\n",
    "    'min_samples_leaf' : [2, 5, 8],\n",
    "    'min_impurity_decrease': [0, 0.1],\n",
    "    'random_state': RANDOM_SEED,\n",
    "    'max_samples': [None, X_train.shape[0]//2, X_train.shape[0]//3]\n",
    "}"
   ]
  },
  {
   "cell_type": "code",
   "execution_count": 68,
   "metadata": {},
   "outputs": [],
   "source": [
    "?RandomForestClassifier"
   ]
  },
  {
   "cell_type": "code",
   "execution_count": null,
   "metadata": {},
   "outputs": [],
   "source": []
  }
 ],
 "metadata": {
  "kernelspec": {
   "display_name": "Python 3",
   "language": "python",
   "name": "python3"
  },
  "language_info": {
   "codemirror_mode": {
    "name": "ipython",
    "version": 3
   },
   "file_extension": ".py",
   "mimetype": "text/x-python",
   "name": "python",
   "nbconvert_exporter": "python",
   "pygments_lexer": "ipython3",
   "version": "3.8.5"
  }
 },
 "nbformat": 4,
 "nbformat_minor": 4
}
